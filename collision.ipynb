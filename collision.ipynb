{
    "cells": [
        {
            "metadata": {
                "collapsed": true
            },
            "cell_type": "markdown",
            "source": "# <h1 align=center><font size=\"5\">  Capstone Project - Car accident severity </font></h1>"
        },
        {
            "metadata": {},
            "cell_type": "markdown",
            "source": "## A.introduction"
        },
        {
            "metadata": {},
            "cell_type": "markdown",
            "source": "The effective treatment of road accidents and thus the enhancment of road safety is a major concern to societies, due to the losses in human lives and the economic and social cost.  \n\nThe Seattle government try find the best solution to prevent avoidable accident by warn drivers to be more careful in critical situation by given weather, road conditions about the possibility of you getting into a car accident and how severe it would be, so that you would drive more carefully, we will handle with many attribute it could help us to avoid this accident,There could be some tendencies of driving habit with day of week that could help us know about factors impacting the collisions better. (For Example, people tend to drink on friday or saturday night, drunk people loves to speeding, speeding lead to collisions).  \n\nThe main purpose for the project to provide advices for target audience such as police , rescue group ,insurance companies and drivers themselves to make insightful decision it could help to reducing accident and accident severity.\n"
        },
        {
            "metadata": {},
            "cell_type": "markdown",
            "source": "## B.Data Description\n"
        },
        {
            "metadata": {},
            "cell_type": "markdown",
            "source": "### B.1.Data acquisition "
        },
        {
            "metadata": {},
            "cell_type": "markdown",
            "source": "The Data provided by Seattle Police Department  and  Traffic Records department from 2004 to Present, in total there are 37 attribute (independent variables ) , The dependent variable (SEVERITYCODE) contains numbers of the correspond to different level of severity caused by accident from 0 to 4 , are as follows:\n\n 0: Little to no Probability (Clear Condition)\\   \n \n 1: very low probability (Chance or property damage)\\  \n \n 2: low probability (Chance of injury)\\  \n \n 3: Mid probability (Chance of serious injury)\\  \n \n 4: High probability (Chance of fatality)\\  \n \nSome attribute have missing data, have numerical and categorical types of data need for preprocessing before any future processing.\n"
        },
        {
            "metadata": {},
            "cell_type": "markdown",
            "source": "### B.2.Data Preprocessing \n"
        },
        {
            "metadata": {},
            "cell_type": "markdown",
            "source": "\nThe dataset consist 194,674 rows and 37 columns (attributes), we also noticed the original dataset is not ready for data analysis, first we will check data type of every column, then we will drop columns which is not required, in my case I will choose four attributes to solve the problem which is (SEVERITYCODE,WEATHER, ROADCOND,LIGHTCOND), and also we have categorical data type we have to convert it to numerical data type and numerical type.\\\nAlso we noticed that data imbalanced so we will use some statistical method to balance it.\n"
        },
        {
            "metadata": {},
            "cell_type": "code",
            "source": "",
            "execution_count": null,
            "outputs": []
        },
        {
            "metadata": {},
            "cell_type": "code",
            "source": "",
            "execution_count": null,
            "outputs": []
        }
    ],
    "metadata": {
        "kernelspec": {
            "name": "python3",
            "display_name": "Python 3.6",
            "language": "python"
        },
        "language_info": {
            "name": "python",
            "version": "3.6.9",
            "mimetype": "text/x-python",
            "codemirror_mode": {
                "name": "ipython",
                "version": 3
            },
            "pygments_lexer": "ipython3",
            "nbconvert_exporter": "python",
            "file_extension": ".py"
        }
    },
    "nbformat": 4,
    "nbformat_minor": 1
}