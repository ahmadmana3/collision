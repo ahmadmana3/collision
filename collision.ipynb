{
    "cells": [
        {
            "metadata": {
                "collapsed": true
            },
            "cell_type": "markdown",
            "source": "# <h1 align=center><font size=\"5\">  Capstone Project - Car accident severity </font></h1>"
        },
        {
            "metadata": {},
            "cell_type": "markdown",
            "source": "## A.introduction"
        },
        {
            "metadata": {},
            "cell_type": "markdown",
            "source": "The effective treatment of road accidents and thus the enhancment of road safety is a major concern to societies, due to the losses in human lives and the economic and social cost.  \n\nThe Seattle government try find the best solution to prevent avoidable accident by warn drivers to be more careful in critical situation by given weather, road conditions about the possibility of you getting into a car accident and how severe it would be, so that you would drive more carefully, we will handle with many attribute it could help us to avoid this accident,There could be some tendencies of driving habit with day of week that could help us know about factors impacting the collisions better. (For Example, people tend to drink on friday or saturday night, drunk people loves to speeding, speeding lead to collisions).  \n\nThe main purpose for the project to provide advices for target audience such as police , rescue group ,insurance companies and drivers themselves to make insightful decision it could help to reducing accident and accident severity.\n"
        },
        {
            "metadata": {},
            "cell_type": "markdown",
            "source": "## B.Data Description\n"
        },
        {
            "metadata": {},
            "cell_type": "markdown",
            "source": "### B.1.Data acquisition "
        },
        {
            "metadata": {},
            "cell_type": "markdown",
            "source": "The Data provided by Seattle Police Department  and  Traffic Records department from 2004 to Present, in total there are 37 attribute (independent variables ) , The dependent variable (SEVERITYCODE) contains numbers of the correspond to different level of severity caused by accident from 0 to 4 , are as follows:\n\n 0: Little to no Probability (Clear Condition)\\   \n \n 1: very low probability (Chance or property damage)\\  \n \n 2: low probability (Chance of injury)\\  \n \n 3: Mid probability (Chance of serious injury)\\  \n \n 4: High probability (Chance of fatality)\\  \n \nSome attribute have missing data, have numerical and categorical types of data need for preprocessing before any future processing.\n"
        },
        {
            "metadata": {},
            "cell_type": "markdown",
            "source": "### B.2.Data Preprocessing \n"
        },
        {
            "metadata": {},
            "cell_type": "markdown",
            "source": "\nThe dataset consist 194,674 rows and 37 columns (attributes), we also noticed the original dataset is not ready for data analysis, first we will check data type of every column, then we will drop columns which is not required, in my case I will choose four attributes to solve the problem which is (SEVERITYCODE,WEATHER, ROADCOND,LIGHTCOND), and also we have categorical data type we have to convert it to numerical data type and numerical type.\\\nAlso we noticed that data imbalanced so we will use some statistical method to balance it.\n"
        },
        {
            "metadata": {},
            "cell_type": "markdown",
            "source": "## C.Methodology \n"
        },
        {
            "metadata": {},
            "cell_type": "markdown",
            "source": "In this project our direct our effort to find proper way to provide advices for target audience and help them to make insightful decision that could help them to reducing accident severity.  \n\nSo first I chose my target variables is severity code which describes the fatality of an accident. \nThen I choose three main conditions that could causes accident to train our model and then we will find out the relation between these conditions and severity code.  \n\nAs we noticed before that we have categorical data that we have to transform it to numeric data so I convert the columns to a category, then I used those category values for my label encoding.\n\nAlso we have unbalanced data so we should balance it to improve the predictability of your model so i applied Random Over sampling  by adding more copies to the minority class.\n"
        },
        {
            "metadata": {},
            "cell_type": "markdown",
            "source": "## C.Analysis <a name=\"analysis\"></a>"
        },
        {
            "metadata": {},
            "cell_type": "code",
            "source": "import pandas as pd",
            "execution_count": 1,
            "outputs": []
        },
        {
            "metadata": {},
            "cell_type": "code",
            "source": "df_collision=pd.read_csv('https://s3.us.cloud-object-storage.appdomain.cloud/cf-courses-data/CognitiveClass/DP0701EN/version-2/Data-Collisions.csv')",
            "execution_count": 2,
            "outputs": [
                {
                    "output_type": "stream",
                    "text": "/opt/conda/envs/Python36/lib/python3.6/site-packages/IPython/core/interactiveshell.py:3020: DtypeWarning: Columns (33) have mixed types. Specify dtype option on import or set low_memory=False.\n  interactivity=interactivity, compiler=compiler, result=result)\n",
                    "name": "stderr"
                }
            ]
        },
        {
            "metadata": {},
            "cell_type": "code",
            "source": "df_collision.head()",
            "execution_count": 3,
            "outputs": [
                {
                    "output_type": "execute_result",
                    "execution_count": 3,
                    "data": {
                        "text/plain": "   SEVERITYCODE           X          Y  OBJECTID  INCKEY  COLDETKEY REPORTNO  \\\n0             2 -122.323148  47.703140         1    1307       1307  3502005   \n1             1 -122.347294  47.647172         2   52200      52200  2607959   \n2             1 -122.334540  47.607871         3   26700      26700  1482393   \n3             1 -122.334803  47.604803         4    1144       1144  3503937   \n4             2 -122.306426  47.545739         5   17700      17700  1807429   \n\n    STATUS      ADDRTYPE   INTKEY  ... ROADCOND                LIGHTCOND  \\\n0  Matched  Intersection  37475.0  ...      Wet                 Daylight   \n1  Matched         Block      NaN  ...      Wet  Dark - Street Lights On   \n2  Matched         Block      NaN  ...      Dry                 Daylight   \n3  Matched         Block      NaN  ...      Dry                 Daylight   \n4  Matched  Intersection  34387.0  ...      Wet                 Daylight   \n\n  PEDROWNOTGRNT  SDOTCOLNUM SPEEDING ST_COLCODE  \\\n0           NaN         NaN      NaN         10   \n1           NaN   6354039.0      NaN         11   \n2           NaN   4323031.0      NaN         32   \n3           NaN         NaN      NaN         23   \n4           NaN   4028032.0      NaN         10   \n\n                                          ST_COLDESC  SEGLANEKEY  \\\n0                                  Entering at angle           0   \n1  From same direction - both going straight - bo...           0   \n2                             One parked--one moving           0   \n3                   From same direction - all others           0   \n4                                  Entering at angle           0   \n\n   CROSSWALKKEY  HITPARKEDCAR  \n0             0             N  \n1             0             N  \n2             0             N  \n3             0             N  \n4             0             N  \n\n[5 rows x 38 columns]",
                        "text/html": "<div>\n<style scoped>\n    .dataframe tbody tr th:only-of-type {\n        vertical-align: middle;\n    }\n\n    .dataframe tbody tr th {\n        vertical-align: top;\n    }\n\n    .dataframe thead th {\n        text-align: right;\n    }\n</style>\n<table border=\"1\" class=\"dataframe\">\n  <thead>\n    <tr style=\"text-align: right;\">\n      <th></th>\n      <th>SEVERITYCODE</th>\n      <th>X</th>\n      <th>Y</th>\n      <th>OBJECTID</th>\n      <th>INCKEY</th>\n      <th>COLDETKEY</th>\n      <th>REPORTNO</th>\n      <th>STATUS</th>\n      <th>ADDRTYPE</th>\n      <th>INTKEY</th>\n      <th>...</th>\n      <th>ROADCOND</th>\n      <th>LIGHTCOND</th>\n      <th>PEDROWNOTGRNT</th>\n      <th>SDOTCOLNUM</th>\n      <th>SPEEDING</th>\n      <th>ST_COLCODE</th>\n      <th>ST_COLDESC</th>\n      <th>SEGLANEKEY</th>\n      <th>CROSSWALKKEY</th>\n      <th>HITPARKEDCAR</th>\n    </tr>\n  </thead>\n  <tbody>\n    <tr>\n      <th>0</th>\n      <td>2</td>\n      <td>-122.323148</td>\n      <td>47.703140</td>\n      <td>1</td>\n      <td>1307</td>\n      <td>1307</td>\n      <td>3502005</td>\n      <td>Matched</td>\n      <td>Intersection</td>\n      <td>37475.0</td>\n      <td>...</td>\n      <td>Wet</td>\n      <td>Daylight</td>\n      <td>NaN</td>\n      <td>NaN</td>\n      <td>NaN</td>\n      <td>10</td>\n      <td>Entering at angle</td>\n      <td>0</td>\n      <td>0</td>\n      <td>N</td>\n    </tr>\n    <tr>\n      <th>1</th>\n      <td>1</td>\n      <td>-122.347294</td>\n      <td>47.647172</td>\n      <td>2</td>\n      <td>52200</td>\n      <td>52200</td>\n      <td>2607959</td>\n      <td>Matched</td>\n      <td>Block</td>\n      <td>NaN</td>\n      <td>...</td>\n      <td>Wet</td>\n      <td>Dark - Street Lights On</td>\n      <td>NaN</td>\n      <td>6354039.0</td>\n      <td>NaN</td>\n      <td>11</td>\n      <td>From same direction - both going straight - bo...</td>\n      <td>0</td>\n      <td>0</td>\n      <td>N</td>\n    </tr>\n    <tr>\n      <th>2</th>\n      <td>1</td>\n      <td>-122.334540</td>\n      <td>47.607871</td>\n      <td>3</td>\n      <td>26700</td>\n      <td>26700</td>\n      <td>1482393</td>\n      <td>Matched</td>\n      <td>Block</td>\n      <td>NaN</td>\n      <td>...</td>\n      <td>Dry</td>\n      <td>Daylight</td>\n      <td>NaN</td>\n      <td>4323031.0</td>\n      <td>NaN</td>\n      <td>32</td>\n      <td>One parked--one moving</td>\n      <td>0</td>\n      <td>0</td>\n      <td>N</td>\n    </tr>\n    <tr>\n      <th>3</th>\n      <td>1</td>\n      <td>-122.334803</td>\n      <td>47.604803</td>\n      <td>4</td>\n      <td>1144</td>\n      <td>1144</td>\n      <td>3503937</td>\n      <td>Matched</td>\n      <td>Block</td>\n      <td>NaN</td>\n      <td>...</td>\n      <td>Dry</td>\n      <td>Daylight</td>\n      <td>NaN</td>\n      <td>NaN</td>\n      <td>NaN</td>\n      <td>23</td>\n      <td>From same direction - all others</td>\n      <td>0</td>\n      <td>0</td>\n      <td>N</td>\n    </tr>\n    <tr>\n      <th>4</th>\n      <td>2</td>\n      <td>-122.306426</td>\n      <td>47.545739</td>\n      <td>5</td>\n      <td>17700</td>\n      <td>17700</td>\n      <td>1807429</td>\n      <td>Matched</td>\n      <td>Intersection</td>\n      <td>34387.0</td>\n      <td>...</td>\n      <td>Wet</td>\n      <td>Daylight</td>\n      <td>NaN</td>\n      <td>4028032.0</td>\n      <td>NaN</td>\n      <td>10</td>\n      <td>Entering at angle</td>\n      <td>0</td>\n      <td>0</td>\n      <td>N</td>\n    </tr>\n  </tbody>\n</table>\n<p>5 rows \u00d7 38 columns</p>\n</div>"
                    },
                    "metadata": {}
                }
            ]
        },
        {
            "metadata": {},
            "cell_type": "code",
            "source": "df=df_collision[['SEVERITYCODE','ROADCOND','LIGHTCOND','WEATHER']]",
            "execution_count": 4,
            "outputs": []
        },
        {
            "metadata": {},
            "cell_type": "code",
            "source": "df.head()",
            "execution_count": 5,
            "outputs": [
                {
                    "output_type": "execute_result",
                    "execution_count": 5,
                    "data": {
                        "text/plain": "   SEVERITYCODE ROADCOND                LIGHTCOND   WEATHER\n0             2      Wet                 Daylight  Overcast\n1             1      Wet  Dark - Street Lights On   Raining\n2             1      Dry                 Daylight  Overcast\n3             1      Dry                 Daylight     Clear\n4             2      Wet                 Daylight   Raining",
                        "text/html": "<div>\n<style scoped>\n    .dataframe tbody tr th:only-of-type {\n        vertical-align: middle;\n    }\n\n    .dataframe tbody tr th {\n        vertical-align: top;\n    }\n\n    .dataframe thead th {\n        text-align: right;\n    }\n</style>\n<table border=\"1\" class=\"dataframe\">\n  <thead>\n    <tr style=\"text-align: right;\">\n      <th></th>\n      <th>SEVERITYCODE</th>\n      <th>ROADCOND</th>\n      <th>LIGHTCOND</th>\n      <th>WEATHER</th>\n    </tr>\n  </thead>\n  <tbody>\n    <tr>\n      <th>0</th>\n      <td>2</td>\n      <td>Wet</td>\n      <td>Daylight</td>\n      <td>Overcast</td>\n    </tr>\n    <tr>\n      <th>1</th>\n      <td>1</td>\n      <td>Wet</td>\n      <td>Dark - Street Lights On</td>\n      <td>Raining</td>\n    </tr>\n    <tr>\n      <th>2</th>\n      <td>1</td>\n      <td>Dry</td>\n      <td>Daylight</td>\n      <td>Overcast</td>\n    </tr>\n    <tr>\n      <th>3</th>\n      <td>1</td>\n      <td>Dry</td>\n      <td>Daylight</td>\n      <td>Clear</td>\n    </tr>\n    <tr>\n      <th>4</th>\n      <td>2</td>\n      <td>Wet</td>\n      <td>Daylight</td>\n      <td>Raining</td>\n    </tr>\n  </tbody>\n</table>\n</div>"
                    },
                    "metadata": {}
                }
            ]
        },
        {
            "metadata": {},
            "cell_type": "code",
            "source": "df['SEVERITYCODE'].value_counts()",
            "execution_count": 6,
            "outputs": [
                {
                    "output_type": "execute_result",
                    "execution_count": 6,
                    "data": {
                        "text/plain": "1    136485\n2     58188\nName: SEVERITYCODE, dtype: int64"
                    },
                    "metadata": {}
                }
            ]
        },
        {
            "metadata": {},
            "cell_type": "code",
            "source": "import matplotlib.pyplot as plt\nimport seaborn as sns\ng = sns.countplot(df['SEVERITYCODE'])\ng.set_xticklabels(['very low probability',' low probability'])\nplt.show()",
            "execution_count": 9,
            "outputs": [
                {
                    "output_type": "display_data",
                    "data": {
                        "text/plain": "<Figure size 432x288 with 1 Axes>",
                        "image/png": "[encoded data removed]"
                    },
                    "metadata": {
                        "needs_background": "light"
                    }
                }
            ]
        },
        {
            "metadata": {},
            "cell_type": "code",
            "source": "class_count_1, class_count_2 = df['SEVERITYCODE'].value_counts()\nclass_1 = df[df['SEVERITYCODE'] == 1]\nclass_2 = df[df['SEVERITYCODE'] == 2]# print the shape of the class\nprint('class 1:', class_1.shape)\nprint('class 2:', class_2.shape)",
            "execution_count": 10,
            "outputs": [
                {
                    "output_type": "stream",
                    "text": "class 1: (136485, 4)\nclass 2: (58188, 4)\n",
                    "name": "stdout"
                }
            ]
        },
        {
            "metadata": {},
            "cell_type": "code",
            "source": "class_2_over = class_2.sample(class_count_1, replace=True)\n\ndf_over = pd.concat([class_2_over, class_1], axis=0)\n\nprint(\"total class of 1 and 0:\",df_over['SEVERITYCODE'].value_counts())# plot the count after under-sampeling\ndf_over['SEVERITYCODE'].value_counts().plot(kind='bar', title='count (target)')",
            "execution_count": 11,
            "outputs": [
                {
                    "output_type": "stream",
                    "text": "total class of 1 and 0: 2    136485\n1    136485\nName: SEVERITYCODE, dtype: int64\n",
                    "name": "stdout"
                },
                {
                    "output_type": "execute_result",
                    "execution_count": 11,
                    "data": {
                        "text/plain": "<matplotlib.axes._subplots.AxesSubplot at 0x7fc06ada7b38>"
                    },
                    "metadata": {}
                },
                {
                    "output_type": "display_data",
                    "data": {
                        "text/plain": "<Figure size 432x288 with 1 Axes>",
                        "image/png": "[encoded data removed]"
                    },
                    "metadata": {
                        "needs_background": "light"
                    }
                }
            ]
        },
        {
            "metadata": {},
            "cell_type": "code",
            "source": "df_over['SEVERITYCODE'].value_counts()",
            "execution_count": 12,
            "outputs": [
                {
                    "output_type": "execute_result",
                    "execution_count": 12,
                    "data": {
                        "text/plain": "2    136485\n1    136485\nName: SEVERITYCODE, dtype: int64"
                    },
                    "metadata": {}
                }
            ]
        },
        {
            "metadata": {},
            "cell_type": "code",
            "source": "df_over.dtypes",
            "execution_count": 13,
            "outputs": [
                {
                    "output_type": "execute_result",
                    "execution_count": 13,
                    "data": {
                        "text/plain": "SEVERITYCODE     int64\nROADCOND        object\nLIGHTCOND       object\nWEATHER         object\ndtype: object"
                    },
                    "metadata": {}
                }
            ]
        },
        {
            "metadata": {},
            "cell_type": "code",
            "source": "df_over['ROADCOND'].value_counts().isnull()",
            "execution_count": 14,
            "outputs": [
                {
                    "output_type": "execute_result",
                    "execution_count": 14,
                    "data": {
                        "text/plain": "Dry               False\nWet               False\nUnknown           False\nIce               False\nSnow/Slush        False\nOther             False\nStanding Water    False\nSand/Mud/Dirt     False\nOil               False\nName: ROADCOND, dtype: bool"
                    },
                    "metadata": {}
                }
            ]
        },
        {
            "metadata": {},
            "cell_type": "code",
            "source": "df_over['LIGHTCOND'].value_counts().isnull()",
            "execution_count": 15,
            "outputs": [
                {
                    "output_type": "execute_result",
                    "execution_count": 15,
                    "data": {
                        "text/plain": "Daylight                    False\nDark - Street Lights On     False\nUnknown                     False\nDusk                        False\nDawn                        False\nDark - No Street Lights     False\nDark - Street Lights Off    False\nOther                       False\nDark - Unknown Lighting     False\nName: LIGHTCOND, dtype: bool"
                    },
                    "metadata": {}
                }
            ]
        },
        {
            "metadata": {},
            "cell_type": "code",
            "source": "df_over['WEATHER'].value_counts().isnull()",
            "execution_count": 16,
            "outputs": [
                {
                    "output_type": "execute_result",
                    "execution_count": 16,
                    "data": {
                        "text/plain": "Clear                       False\nRaining                     False\nOvercast                    False\nUnknown                     False\nSnowing                     False\nOther                       False\nFog/Smog/Smoke              False\nSleet/Hail/Freezing Rain    False\nBlowing Sand/Dirt           False\nSevere Crosswind            False\nPartly Cloudy               False\nName: WEATHER, dtype: bool"
                    },
                    "metadata": {}
                }
            ]
        },
        {
            "metadata": {},
            "cell_type": "code",
            "source": "df_over[\"ROADCOND\"] = df_over[\"ROADCOND\"].astype('category')\ndf_over.dtypes",
            "execution_count": 17,
            "outputs": [
                {
                    "output_type": "execute_result",
                    "execution_count": 17,
                    "data": {
                        "text/plain": "SEVERITYCODE       int64\nROADCOND        category\nLIGHTCOND         object\nWEATHER           object\ndtype: object"
                    },
                    "metadata": {}
                }
            ]
        },
        {
            "metadata": {},
            "cell_type": "code",
            "source": "df_over[\"ROADCOND_cat\"] = df_over[\"ROADCOND\"].cat.codes\ndf_over.head()",
            "execution_count": 18,
            "outputs": [
                {
                    "output_type": "execute_result",
                    "execution_count": 18,
                    "data": {
                        "text/plain": "        SEVERITYCODE ROADCOND                LIGHTCOND WEATHER  ROADCOND_cat\n141617             2      Dry                 Daylight   Clear             0\n37716              2      Dry                 Daylight   Clear             0\n27943              2      Dry  Dark - Street Lights On   Clear             0\n36440              2      Dry                 Daylight   Clear             0\n145404             2      Dry                 Daylight   Clear             0",
                        "text/html": "<div>\n<style scoped>\n    .dataframe tbody tr th:only-of-type {\n        vertical-align: middle;\n    }\n\n    .dataframe tbody tr th {\n        vertical-align: top;\n    }\n\n    .dataframe thead th {\n        text-align: right;\n    }\n</style>\n<table border=\"1\" class=\"dataframe\">\n  <thead>\n    <tr style=\"text-align: right;\">\n      <th></th>\n      <th>SEVERITYCODE</th>\n      <th>ROADCOND</th>\n      <th>LIGHTCOND</th>\n      <th>WEATHER</th>\n      <th>ROADCOND_cat</th>\n    </tr>\n  </thead>\n  <tbody>\n    <tr>\n      <th>141617</th>\n      <td>2</td>\n      <td>Dry</td>\n      <td>Daylight</td>\n      <td>Clear</td>\n      <td>0</td>\n    </tr>\n    <tr>\n      <th>37716</th>\n      <td>2</td>\n      <td>Dry</td>\n      <td>Daylight</td>\n      <td>Clear</td>\n      <td>0</td>\n    </tr>\n    <tr>\n      <th>27943</th>\n      <td>2</td>\n      <td>Dry</td>\n      <td>Dark - Street Lights On</td>\n      <td>Clear</td>\n      <td>0</td>\n    </tr>\n    <tr>\n      <th>36440</th>\n      <td>2</td>\n      <td>Dry</td>\n      <td>Daylight</td>\n      <td>Clear</td>\n      <td>0</td>\n    </tr>\n    <tr>\n      <th>145404</th>\n      <td>2</td>\n      <td>Dry</td>\n      <td>Daylight</td>\n      <td>Clear</td>\n      <td>0</td>\n    </tr>\n  </tbody>\n</table>\n</div>"
                    },
                    "metadata": {}
                }
            ]
        },
        {
            "metadata": {},
            "cell_type": "code",
            "source": "df_over[\"LIGHTCOND\"] = df_over[\"LIGHTCOND\"].astype('category')\ndf_over.dtypes",
            "execution_count": 19,
            "outputs": [
                {
                    "output_type": "execute_result",
                    "execution_count": 19,
                    "data": {
                        "text/plain": "SEVERITYCODE       int64\nROADCOND        category\nLIGHTCOND       category\nWEATHER           object\nROADCOND_cat        int8\ndtype: object"
                    },
                    "metadata": {}
                }
            ]
        },
        {
            "metadata": {},
            "cell_type": "code",
            "source": "df_over[\"LIGHCOND_cat\"] = df_over[\"LIGHTCOND\"].cat.codes\ndf_over.head()",
            "execution_count": 20,
            "outputs": [
                {
                    "output_type": "execute_result",
                    "execution_count": 20,
                    "data": {
                        "text/plain": "        SEVERITYCODE ROADCOND                LIGHTCOND WEATHER  ROADCOND_cat  \\\n141617             2      Dry                 Daylight   Clear             0   \n37716              2      Dry                 Daylight   Clear             0   \n27943              2      Dry  Dark - Street Lights On   Clear             0   \n36440              2      Dry                 Daylight   Clear             0   \n145404             2      Dry                 Daylight   Clear             0   \n\n        LIGHCOND_cat  \n141617             5  \n37716              5  \n27943              2  \n36440              5  \n145404             5  ",
                        "text/html": "<div>\n<style scoped>\n    .dataframe tbody tr th:only-of-type {\n        vertical-align: middle;\n    }\n\n    .dataframe tbody tr th {\n        vertical-align: top;\n    }\n\n    .dataframe thead th {\n        text-align: right;\n    }\n</style>\n<table border=\"1\" class=\"dataframe\">\n  <thead>\n    <tr style=\"text-align: right;\">\n      <th></th>\n      <th>SEVERITYCODE</th>\n      <th>ROADCOND</th>\n      <th>LIGHTCOND</th>\n      <th>WEATHER</th>\n      <th>ROADCOND_cat</th>\n      <th>LIGHCOND_cat</th>\n    </tr>\n  </thead>\n  <tbody>\n    <tr>\n      <th>141617</th>\n      <td>2</td>\n      <td>Dry</td>\n      <td>Daylight</td>\n      <td>Clear</td>\n      <td>0</td>\n      <td>5</td>\n    </tr>\n    <tr>\n      <th>37716</th>\n      <td>2</td>\n      <td>Dry</td>\n      <td>Daylight</td>\n      <td>Clear</td>\n      <td>0</td>\n      <td>5</td>\n    </tr>\n    <tr>\n      <th>27943</th>\n      <td>2</td>\n      <td>Dry</td>\n      <td>Dark - Street Lights On</td>\n      <td>Clear</td>\n      <td>0</td>\n      <td>2</td>\n    </tr>\n    <tr>\n      <th>36440</th>\n      <td>2</td>\n      <td>Dry</td>\n      <td>Daylight</td>\n      <td>Clear</td>\n      <td>0</td>\n      <td>5</td>\n    </tr>\n    <tr>\n      <th>145404</th>\n      <td>2</td>\n      <td>Dry</td>\n      <td>Daylight</td>\n      <td>Clear</td>\n      <td>0</td>\n      <td>5</td>\n    </tr>\n  </tbody>\n</table>\n</div>"
                    },
                    "metadata": {}
                }
            ]
        },
        {
            "metadata": {},
            "cell_type": "code",
            "source": "df_over[\"WEATHER\"] = df_over[\"WEATHER\"].astype('category')\ndf_over.dtypes",
            "execution_count": 21,
            "outputs": [
                {
                    "output_type": "execute_result",
                    "execution_count": 21,
                    "data": {
                        "text/plain": "SEVERITYCODE       int64\nROADCOND        category\nLIGHTCOND       category\nWEATHER         category\nROADCOND_cat        int8\nLIGHCOND_cat        int8\ndtype: object"
                    },
                    "metadata": {}
                }
            ]
        },
        {
            "metadata": {},
            "cell_type": "code",
            "source": "df_over[\"WEATHER_cat\"] = df_over[\"WEATHER\"].cat.codes\ndf_over.head()",
            "execution_count": 22,
            "outputs": [
                {
                    "output_type": "execute_result",
                    "execution_count": 22,
                    "data": {
                        "text/plain": "        SEVERITYCODE ROADCOND                LIGHTCOND WEATHER  ROADCOND_cat  \\\n141617             2      Dry                 Daylight   Clear             0   \n37716              2      Dry                 Daylight   Clear             0   \n27943              2      Dry  Dark - Street Lights On   Clear             0   \n36440              2      Dry                 Daylight   Clear             0   \n145404             2      Dry                 Daylight   Clear             0   \n\n        LIGHCOND_cat  WEATHER_cat  \n141617             5            1  \n37716              5            1  \n27943              2            1  \n36440              5            1  \n145404             5            1  ",
                        "text/html": "<div>\n<style scoped>\n    .dataframe tbody tr th:only-of-type {\n        vertical-align: middle;\n    }\n\n    .dataframe tbody tr th {\n        vertical-align: top;\n    }\n\n    .dataframe thead th {\n        text-align: right;\n    }\n</style>\n<table border=\"1\" class=\"dataframe\">\n  <thead>\n    <tr style=\"text-align: right;\">\n      <th></th>\n      <th>SEVERITYCODE</th>\n      <th>ROADCOND</th>\n      <th>LIGHTCOND</th>\n      <th>WEATHER</th>\n      <th>ROADCOND_cat</th>\n      <th>LIGHCOND_cat</th>\n      <th>WEATHER_cat</th>\n    </tr>\n  </thead>\n  <tbody>\n    <tr>\n      <th>141617</th>\n      <td>2</td>\n      <td>Dry</td>\n      <td>Daylight</td>\n      <td>Clear</td>\n      <td>0</td>\n      <td>5</td>\n      <td>1</td>\n    </tr>\n    <tr>\n      <th>37716</th>\n      <td>2</td>\n      <td>Dry</td>\n      <td>Daylight</td>\n      <td>Clear</td>\n      <td>0</td>\n      <td>5</td>\n      <td>1</td>\n    </tr>\n    <tr>\n      <th>27943</th>\n      <td>2</td>\n      <td>Dry</td>\n      <td>Dark - Street Lights On</td>\n      <td>Clear</td>\n      <td>0</td>\n      <td>2</td>\n      <td>1</td>\n    </tr>\n    <tr>\n      <th>36440</th>\n      <td>2</td>\n      <td>Dry</td>\n      <td>Daylight</td>\n      <td>Clear</td>\n      <td>0</td>\n      <td>5</td>\n      <td>1</td>\n    </tr>\n    <tr>\n      <th>145404</th>\n      <td>2</td>\n      <td>Dry</td>\n      <td>Daylight</td>\n      <td>Clear</td>\n      <td>0</td>\n      <td>5</td>\n      <td>1</td>\n    </tr>\n  </tbody>\n</table>\n</div>"
                    },
                    "metadata": {}
                }
            ]
        },
        {
            "metadata": {},
            "cell_type": "markdown",
            "source": "## C.1.Realtion between weather and accident severity"
        },
        {
            "metadata": {},
            "cell_type": "code",
            "source": "df_weather = df_over[['SEVERITYCODE','WEATHER',]]\ndf_weather.head()",
            "execution_count": 23,
            "outputs": [
                {
                    "output_type": "execute_result",
                    "execution_count": 23,
                    "data": {
                        "text/plain": "        SEVERITYCODE WEATHER\n141617             2   Clear\n37716              2   Clear\n27943              2   Clear\n36440              2   Clear\n145404             2   Clear",
                        "text/html": "<div>\n<style scoped>\n    .dataframe tbody tr th:only-of-type {\n        vertical-align: middle;\n    }\n\n    .dataframe tbody tr th {\n        vertical-align: top;\n    }\n\n    .dataframe thead th {\n        text-align: right;\n    }\n</style>\n<table border=\"1\" class=\"dataframe\">\n  <thead>\n    <tr style=\"text-align: right;\">\n      <th></th>\n      <th>SEVERITYCODE</th>\n      <th>WEATHER</th>\n    </tr>\n  </thead>\n  <tbody>\n    <tr>\n      <th>141617</th>\n      <td>2</td>\n      <td>Clear</td>\n    </tr>\n    <tr>\n      <th>37716</th>\n      <td>2</td>\n      <td>Clear</td>\n    </tr>\n    <tr>\n      <th>27943</th>\n      <td>2</td>\n      <td>Clear</td>\n    </tr>\n    <tr>\n      <th>36440</th>\n      <td>2</td>\n      <td>Clear</td>\n    </tr>\n    <tr>\n      <th>145404</th>\n      <td>2</td>\n      <td>Clear</td>\n    </tr>\n  </tbody>\n</table>\n</div>"
                    },
                    "metadata": {}
                }
            ]
        },
        {
            "metadata": {},
            "cell_type": "code",
            "source": "\nplt.figure(figsize=(20,5))\nsns.barplot(\n    data=df_weather,\n    x='WEATHER',\n    y='SEVERITYCODE')",
            "execution_count": 24,
            "outputs": [
                {
                    "output_type": "execute_result",
                    "execution_count": 24,
                    "data": {
                        "text/plain": "<matplotlib.axes._subplots.AxesSubplot at 0x7fc06853f390>"
                    },
                    "metadata": {}
                },
                {
                    "output_type": "display_data",
                    "data": {
                        "text/plain": "<Figure size 1440x360 with 1 Axes>",
                        "image/png": "[encoded data removed]"
                    },
                    "metadata": {
                        "needs_background": "light"
                    }
                }
            ]
        },
        {
            "metadata": {},
            "cell_type": "markdown",
            "source": "## C.2.Relation between ROADCOND and accident severity"
        },
        {
            "metadata": {},
            "cell_type": "code",
            "source": "df_road=df_over[['ROADCOND','SEVERITYCODE']]",
            "execution_count": 25,
            "outputs": []
        },
        {
            "metadata": {},
            "cell_type": "code",
            "source": "df_road.head()",
            "execution_count": 26,
            "outputs": [
                {
                    "output_type": "execute_result",
                    "execution_count": 26,
                    "data": {
                        "text/plain": "       ROADCOND  SEVERITYCODE\n141617      Dry             2\n37716       Dry             2\n27943       Dry             2\n36440       Dry             2\n145404      Dry             2",
                        "text/html": "<div>\n<style scoped>\n    .dataframe tbody tr th:only-of-type {\n        vertical-align: middle;\n    }\n\n    .dataframe tbody tr th {\n        vertical-align: top;\n    }\n\n    .dataframe thead th {\n        text-align: right;\n    }\n</style>\n<table border=\"1\" class=\"dataframe\">\n  <thead>\n    <tr style=\"text-align: right;\">\n      <th></th>\n      <th>ROADCOND</th>\n      <th>SEVERITYCODE</th>\n    </tr>\n  </thead>\n  <tbody>\n    <tr>\n      <th>141617</th>\n      <td>Dry</td>\n      <td>2</td>\n    </tr>\n    <tr>\n      <th>37716</th>\n      <td>Dry</td>\n      <td>2</td>\n    </tr>\n    <tr>\n      <th>27943</th>\n      <td>Dry</td>\n      <td>2</td>\n    </tr>\n    <tr>\n      <th>36440</th>\n      <td>Dry</td>\n      <td>2</td>\n    </tr>\n    <tr>\n      <th>145404</th>\n      <td>Dry</td>\n      <td>2</td>\n    </tr>\n  </tbody>\n</table>\n</div>"
                    },
                    "metadata": {}
                }
            ]
        },
        {
            "metadata": {},
            "cell_type": "code",
            "source": "\nsns.catplot(x=\"ROADCOND\", y=\"SEVERITYCODE\", kind=\"point\", data=df_road,height=3, \n    aspect=3,)\n\n",
            "execution_count": 27,
            "outputs": [
                {
                    "output_type": "execute_result",
                    "execution_count": 27,
                    "data": {
                        "text/plain": "<seaborn.axisgrid.FacetGrid at 0x7fc06aff7438>"
                    },
                    "metadata": {}
                },
                {
                    "output_type": "display_data",
                    "data": {
                        "text/plain": "<Figure size 648x216 with 1 Axes>",
                        "image/png": "[encoded data removed]"
                    },
                    "metadata": {
                        "needs_background": "light"
                    }
                }
            ]
        },
        {
            "metadata": {},
            "cell_type": "markdown",
            "source": "## C.2.Relation between Lightcond and accident severity"
        },
        {
            "metadata": {},
            "cell_type": "code",
            "source": "df_light=df_over[['LIGHTCOND','SEVERITYCODE']]\ndf_light.head()",
            "execution_count": 28,
            "outputs": [
                {
                    "output_type": "execute_result",
                    "execution_count": 28,
                    "data": {
                        "text/plain": "                      LIGHTCOND  SEVERITYCODE\n141617                 Daylight             2\n37716                  Daylight             2\n27943   Dark - Street Lights On             2\n36440                  Daylight             2\n145404                 Daylight             2",
                        "text/html": "<div>\n<style scoped>\n    .dataframe tbody tr th:only-of-type {\n        vertical-align: middle;\n    }\n\n    .dataframe tbody tr th {\n        vertical-align: top;\n    }\n\n    .dataframe thead th {\n        text-align: right;\n    }\n</style>\n<table border=\"1\" class=\"dataframe\">\n  <thead>\n    <tr style=\"text-align: right;\">\n      <th></th>\n      <th>LIGHTCOND</th>\n      <th>SEVERITYCODE</th>\n    </tr>\n  </thead>\n  <tbody>\n    <tr>\n      <th>141617</th>\n      <td>Daylight</td>\n      <td>2</td>\n    </tr>\n    <tr>\n      <th>37716</th>\n      <td>Daylight</td>\n      <td>2</td>\n    </tr>\n    <tr>\n      <th>27943</th>\n      <td>Dark - Street Lights On</td>\n      <td>2</td>\n    </tr>\n    <tr>\n      <th>36440</th>\n      <td>Daylight</td>\n      <td>2</td>\n    </tr>\n    <tr>\n      <th>145404</th>\n      <td>Daylight</td>\n      <td>2</td>\n    </tr>\n  </tbody>\n</table>\n</div>"
                    },
                    "metadata": {}
                }
            ]
        },
        {
            "metadata": {},
            "cell_type": "code",
            "source": "sns.catplot(x=\"LIGHTCOND\", y=\"SEVERITYCODE\", kind=\"point\", data=df_light,height=3, \n    aspect=6)\n\n",
            "execution_count": 29,
            "outputs": [
                {
                    "output_type": "execute_result",
                    "execution_count": 29,
                    "data": {
                        "text/plain": "<seaborn.axisgrid.FacetGrid at 0x7fc06af89e10>"
                    },
                    "metadata": {}
                },
                {
                    "output_type": "display_data",
                    "data": {
                        "text/plain": "<Figure size 1296x216 with 1 Axes>",
                        "image/png": "[encoded data removed]"
                    },
                    "metadata": {
                        "needs_background": "light"
                    }
                }
            ]
        },
        {
            "metadata": {},
            "cell_type": "markdown",
            "source": "## D.4. Predictive Modeling"
        },
        {
            "metadata": {},
            "cell_type": "code",
            "source": "df_over.head()",
            "execution_count": 30,
            "outputs": [
                {
                    "output_type": "execute_result",
                    "execution_count": 30,
                    "data": {
                        "text/plain": "        SEVERITYCODE ROADCOND                LIGHTCOND WEATHER  ROADCOND_cat  \\\n141617             2      Dry                 Daylight   Clear             0   \n37716              2      Dry                 Daylight   Clear             0   \n27943              2      Dry  Dark - Street Lights On   Clear             0   \n36440              2      Dry                 Daylight   Clear             0   \n145404             2      Dry                 Daylight   Clear             0   \n\n        LIGHCOND_cat  WEATHER_cat  \n141617             5            1  \n37716              5            1  \n27943              2            1  \n36440              5            1  \n145404             5            1  ",
                        "text/html": "<div>\n<style scoped>\n    .dataframe tbody tr th:only-of-type {\n        vertical-align: middle;\n    }\n\n    .dataframe tbody tr th {\n        vertical-align: top;\n    }\n\n    .dataframe thead th {\n        text-align: right;\n    }\n</style>\n<table border=\"1\" class=\"dataframe\">\n  <thead>\n    <tr style=\"text-align: right;\">\n      <th></th>\n      <th>SEVERITYCODE</th>\n      <th>ROADCOND</th>\n      <th>LIGHTCOND</th>\n      <th>WEATHER</th>\n      <th>ROADCOND_cat</th>\n      <th>LIGHCOND_cat</th>\n      <th>WEATHER_cat</th>\n    </tr>\n  </thead>\n  <tbody>\n    <tr>\n      <th>141617</th>\n      <td>2</td>\n      <td>Dry</td>\n      <td>Daylight</td>\n      <td>Clear</td>\n      <td>0</td>\n      <td>5</td>\n      <td>1</td>\n    </tr>\n    <tr>\n      <th>37716</th>\n      <td>2</td>\n      <td>Dry</td>\n      <td>Daylight</td>\n      <td>Clear</td>\n      <td>0</td>\n      <td>5</td>\n      <td>1</td>\n    </tr>\n    <tr>\n      <th>27943</th>\n      <td>2</td>\n      <td>Dry</td>\n      <td>Dark - Street Lights On</td>\n      <td>Clear</td>\n      <td>0</td>\n      <td>2</td>\n      <td>1</td>\n    </tr>\n    <tr>\n      <th>36440</th>\n      <td>2</td>\n      <td>Dry</td>\n      <td>Daylight</td>\n      <td>Clear</td>\n      <td>0</td>\n      <td>5</td>\n      <td>1</td>\n    </tr>\n    <tr>\n      <th>145404</th>\n      <td>2</td>\n      <td>Dry</td>\n      <td>Daylight</td>\n      <td>Clear</td>\n      <td>0</td>\n      <td>5</td>\n      <td>1</td>\n    </tr>\n  </tbody>\n</table>\n</div>"
                    },
                    "metadata": {}
                }
            ]
        },
        {
            "metadata": {},
            "cell_type": "code",
            "source": "df_fea=df_over[['ROADCOND_cat','LIGHCOND_cat','WEATHER_cat']].astype('int')",
            "execution_count": 31,
            "outputs": []
        },
        {
            "metadata": {},
            "cell_type": "code",
            "source": "import numpy as np\nX=np.asarray(df_fea)\nX[0:4]",
            "execution_count": 32,
            "outputs": [
                {
                    "output_type": "execute_result",
                    "execution_count": 32,
                    "data": {
                        "text/plain": "array([[0, 5, 1],\n       [0, 5, 1],\n       [0, 2, 1],\n       [0, 5, 1]])"
                    },
                    "metadata": {}
                }
            ]
        },
        {
            "metadata": {},
            "cell_type": "code",
            "source": "df_severity=df_over['SEVERITYCODE'].astype('int')\ny=np.asarray(df_severity)\ny[0:4]",
            "execution_count": 33,
            "outputs": [
                {
                    "output_type": "execute_result",
                    "execution_count": 33,
                    "data": {
                        "text/plain": "array([2, 2, 2, 2])"
                    },
                    "metadata": {}
                }
            ]
        },
        {
            "metadata": {},
            "cell_type": "code",
            "source": "from sklearn.model_selection import train_test_split\nX_train, X_test, y_train, y_test = train_test_split( X, y, test_size=0.2, random_state=4)\nprint ('Train set:', X_train.shape,  y_train.shape)\nprint ('Test set:', X_test.shape,  y_test.shape)",
            "execution_count": 34,
            "outputs": [
                {
                    "output_type": "stream",
                    "text": "Train set: (218376, 3) (218376,)\nTest set: (54594, 3) (54594,)\n",
                    "name": "stdout"
                }
            ]
        },
        {
            "metadata": {},
            "cell_type": "code",
            "source": "from sklearn import svm\nclf = svm.SVC(kernel='rbf')\nclf.fit(X_train, y_train) ",
            "execution_count": null,
            "outputs": [
                {
                    "output_type": "stream",
                    "text": "/opt/conda/envs/Python36/lib/python3.6/site-packages/sklearn/svm/base.py:196: FutureWarning: The default value of gamma will change from 'auto' to 'scale' in version 0.22 to account better for unscaled features. Set gamma explicitly to 'auto' or 'scale' to avoid this warning.\n  \"avoid this warning.\", FutureWarning)\n",
                    "name": "stderr"
                }
            ]
        },
        {
            "metadata": {},
            "cell_type": "code",
            "source": "yhat = clf.predict(X_test)\nyhat [0:5]",
            "execution_count": null,
            "outputs": []
        },
        {
            "metadata": {},
            "cell_type": "code",
            "source": "from sklearn.metrics import classification_report, confusion_matrix\nimport itertools",
            "execution_count": null,
            "outputs": []
        },
        {
            "metadata": {},
            "cell_type": "code",
            "source": "def plot_confusion_matrix(cm, classes,\n                          normalize=False,\n                          title='Confusion matrix',\n                          cmap=plt.cm.Blues):\n    \"\"\"\n    This function prints and plots the confusion matrix.\n    Normalization can be applied by setting `normalize=True`.\n    \"\"\"\n    if normalize:\n        cm = cm.astype('float') / cm.sum(axis=1)[:, np.newaxis]\n        print(\"Normalized confusion matrix\")\n    else:\n        print('Confusion matrix, without normalization')\n\n    print(cm)\n\n    plt.imshow(cm, interpolation='nearest', cmap=cmap)\n    plt.title(title)\n    plt.colorbar()\n    tick_marks = np.arange(len(classes))\n    plt.xticks(tick_marks, classes, rotation=45)\n    plt.yticks(tick_marks, classes)\n\n    fmt = '.2f' if normalize else 'd'\n    thresh = cm.max() / 2.\n    for i, j in itertools.product(range(cm.shape[0]), range(cm.shape[1])):\n        plt.text(j, i, format(cm[i, j], fmt),\n                 horizontalalignment=\"center\",\n                 color=\"white\" if cm[i, j] > thresh else \"black\")\n\n    plt.tight_layout()\n    plt.ylabel('True label')\n    plt.xlabel('Predicted label')\n",
            "execution_count": null,
            "outputs": []
        },
        {
            "metadata": {},
            "cell_type": "code",
            "source": "",
            "execution_count": null,
            "outputs": []
        }
    ],
    "metadata": {
        "kernelspec": {
            "name": "python3",
            "display_name": "Python 3.6",
            "language": "python"
        },
        "language_info": {
            "name": "python",
            "version": "3.6.9",
            "mimetype": "text/x-python",
            "codemirror_mode": {
                "name": "ipython",
                "version": 3
            },
            "pygments_lexer": "ipython3",
            "nbconvert_exporter": "python",
            "file_extension": ".py"
        }
    },
    "nbformat": 4,
    "nbformat_minor": 1
}