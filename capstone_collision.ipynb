{
    "cells": [
        {
            "metadata": {
                "collapsed": true
            },
            "cell_type": "markdown",
            "source": "# <h1 align=center><font size=\"5\">  Capstone Project - Car accident severity </font></h1>"
        },
        {
            "metadata": {},
            "cell_type": "markdown",
            "source": "## A.introduction"
        },
        {
            "metadata": {},
            "cell_type": "markdown",
            "source": "The effective treatment of road accidents and thus the enhancement of road safety is a major concern to societies, due to the losses in human lives and the economic and social cost.\\\n In this project we will try to predict car accident severity , we will take many attribute it could help us to avoid this accident and find popper model could warn us by given weather, road conditions about the possibility of you getting into a car accident and how severe it would be, so that you would drive more carefully."
        },
        {
            "metadata": {},
            "cell_type": "markdown",
            "source": "## B.Data Description\n"
        },
        {
            "metadata": {},
            "cell_type": "markdown",
            "source": "### B.1.Data acquisition "
        },
        {
            "metadata": {},
            "cell_type": "markdown",
            "source": "Seattle car collision data provided by SPD and recorded by Traffic Records, it contain all collision recorded since 2004 to Present, in total there are 37 attribute , some attribute have missing data, have numerical and categorical types of  data ."
        },
        {
            "metadata": {},
            "cell_type": "markdown",
            "source": "### B.2.Data Feature, cleaning \n"
        },
        {
            "metadata": {},
            "cell_type": "markdown",
            "source": "In total, 219547 rows and 37 features in the raw dataset.\\\nhighly correlated features were dropped. \\\nCleaned data contains 13 features."
        },
        {
            "metadata": {},
            "cell_type": "code",
            "source": "",
            "execution_count": null,
            "outputs": []
        }
    ],
    "metadata": {
        "kernelspec": {
            "name": "python3",
            "display_name": "Python 3.6",
            "language": "python"
        },
        "language_info": {
            "name": "python",
            "version": "3.6.9",
            "mimetype": "text/x-python",
            "codemirror_mode": {
                "name": "ipython",
                "version": 3
            },
            "pygments_lexer": "ipython3",
            "nbconvert_exporter": "python",
            "file_extension": ".py"
        }
    },
    "nbformat": 4,
    "nbformat_minor": 1
}