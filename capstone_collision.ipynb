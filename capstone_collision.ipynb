{
    "cells": [
        {
            "cell_type": "markdown",
            "metadata": {
                "collapsed": true
            },
            "source": "# <h1 align=center><font size=\"5\">  Capstone Project - Car accident severity </font></h1>"
        },
        {
            "cell_type": "markdown",
            "metadata": {},
            "source": "## A.introduction"
        },
        {
            "cell_type": "markdown",
            "metadata": {},
            "source": "The effective treatment of road accidents and thus the enhancement of road safety is a major concern to societies, due to the losses in human lives and the economic and social cost.\\\n In this project we will try to predict car accident severity , we will take many attribute it could help us to avoid this accident and find popper model could warn us by given weather, road conditions about the possibility of you getting into a car accident and how severe it would be, so that you would drive more carefully."
        },
        {
            "cell_type": "markdown",
            "metadata": {},
            "source": "## B.Data Description\n"
        },
        {
            "cell_type": "markdown",
            "metadata": {},
            "source": "### B.1.Data acquisition "
        },
        {
            "cell_type": "markdown",
            "execution_count": 6,
            "metadata": {},
            "outputs": [
                {
                    "ename": "SyntaxError",
                    "evalue": "invalid syntax (<ipython-input-6-54194f3f3f4c>, line 1)",
                    "output_type": "error",
                    "traceback": [
                        "\u001b[0;36m  File \u001b[0;32m\"<ipython-input-6-54194f3f3f4c>\"\u001b[0;36m, line \u001b[0;32m1\u001b[0m\n\u001b[0;31m    Seattle car collision data provided by SPD and recorded by Traffic Records, it contain all collision recorded since 2004 to Present, in total there are 37 attribute , some attribute have missing data, have numerical and categorical types of  data .\u001b[0m\n\u001b[0m              ^\u001b[0m\n\u001b[0;31mSyntaxError\u001b[0m\u001b[0;31m:\u001b[0m invalid syntax\n"
                    ]
                }
            ],
            "source": "Seattle car collision data provided by SPD and recorded by Traffic Records, it contain all collision recorded since 2004 to Present, in total there are 37 attribute , some attribute have missing data, have numerical and categorical types of  data ."
        },
        {
            "cell_type": "markdown",
            "execution_count": 7,
            "metadata": {},
            "outputs": [],
            "source": "### B.2.Data Feature, cleaning \n"
        },
        {
            "cell_type": "markdown",
            "execution_count": 8,
            "metadata": {},
            "outputs": [
                {
                    "ename": "SyntaxError",
                    "evalue": "invalid syntax (<ipython-input-8-02adb49bc128>, line 1)",
                    "output_type": "error",
                    "traceback": [
                        "\u001b[0;36m  File \u001b[0;32m\"<ipython-input-8-02adb49bc128>\"\u001b[0;36m, line \u001b[0;32m1\u001b[0m\n\u001b[0;31m    In total, 219547 rows and 37 features in the raw dataset.\\\u001b[0m\n\u001b[0m           ^\u001b[0m\n\u001b[0;31mSyntaxError\u001b[0m\u001b[0;31m:\u001b[0m invalid syntax\n"
                    ]
                }
            ],
            "source": "In total, 219547 rows and 37 features in the raw dataset.\\\nhighly correlated features were dropped. \\\nCleaned data contains 13 features."
        },
        {
            "cell_type": "markdown",
            "execution_count": null,
            "metadata": {},
            "outputs": [],
            "source": ""
        }
    ],
    "metadata": {
        "kernelspec": {
            "display_name": "Python 3.6",
            "language": "python",
            "name": "python3"
        },
        "language_info": {
            "codemirror_mode": {
                "name": "ipython",
                "version": 3
            },
            "file_extension": ".py",
            "mimetype": "text x-python",
            "name": "python",
            "nbconvert_exporter": "python",
            "pygments_lexer": "ipython3",
            "version": "3.6.9"
        }
    },
    "nbformat": 4,
    "nbformat_minor": 1
}
